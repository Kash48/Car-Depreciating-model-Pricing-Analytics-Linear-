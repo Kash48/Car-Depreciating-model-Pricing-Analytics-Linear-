{
 "cells": [
  {
   "cell_type": "markdown",
   "metadata": {},
   "source": [
    "The Historical price data is available for car current price depreciation and number of years.\n",
    "\n",
    "Sought after Insights:\n",
    "\n",
    "1. Analyze the data and see if there is a correlation in the depreciation percentage and years.\n",
    "\n",
    "2. Try and build a Regression model that would help the company to predict the price of the car based on its age.\n",
    "\n",
    "3. Try and build a model that helps to predict the the negotiation  price as per the data, keeping other factors constant.\n"
   ]
  },
  {
   "cell_type": "markdown",
   "metadata": {},
   "source": [
    "### Regression from Scratch"
   ]
  },
  {
   "cell_type": "code",
   "execution_count": 6,
   "metadata": {},
   "outputs": [],
   "source": [
    "#importing pandas,numpy and seaborn libraries\n",
    "import pandas as pd\n",
    "import numpy as np\n",
    "import seaborn as sb"
   ]
  },
  {
   "cell_type": "code",
   "execution_count": 16,
   "metadata": {},
   "outputs": [
    {
     "name": "stdout",
     "output_type": "stream",
     "text": [
      "(12, 2)\n"
     ]
    },
    {
     "data": {
      "text/html": [
       "<div>\n",
       "<style scoped>\n",
       "    .dataframe tbody tr th:only-of-type {\n",
       "        vertical-align: middle;\n",
       "    }\n",
       "\n",
       "    .dataframe tbody tr th {\n",
       "        vertical-align: top;\n",
       "    }\n",
       "\n",
       "    .dataframe thead th {\n",
       "        text-align: right;\n",
       "    }\n",
       "</style>\n",
       "<table border=\"1\" class=\"dataframe\">\n",
       "  <thead>\n",
       "    <tr style=\"text-align: right;\">\n",
       "      <th></th>\n",
       "      <th>Year</th>\n",
       "      <th>Sell_Percentage</th>\n",
       "    </tr>\n",
       "  </thead>\n",
       "  <tbody>\n",
       "    <tr>\n",
       "      <th>0</th>\n",
       "      <td>1</td>\n",
       "      <td>0.78</td>\n",
       "    </tr>\n",
       "    <tr>\n",
       "      <th>1</th>\n",
       "      <td>2</td>\n",
       "      <td>0.65</td>\n",
       "    </tr>\n",
       "    <tr>\n",
       "      <th>2</th>\n",
       "      <td>3</td>\n",
       "      <td>0.58</td>\n",
       "    </tr>\n",
       "    <tr>\n",
       "      <th>3</th>\n",
       "      <td>4</td>\n",
       "      <td>0.49</td>\n",
       "    </tr>\n",
       "    <tr>\n",
       "      <th>4</th>\n",
       "      <td>5</td>\n",
       "      <td>0.40</td>\n",
       "    </tr>\n",
       "  </tbody>\n",
       "</table>\n",
       "</div>"
      ],
      "text/plain": [
       "   Year  Sell_Percentage\n",
       "0     1             0.78\n",
       "1     2             0.65\n",
       "2     3             0.58\n",
       "3     4             0.49\n",
       "4     5             0.40"
      ]
     },
     "execution_count": 16,
     "metadata": {},
     "output_type": "execute_result"
    }
   ],
   "source": [
    "#importing the data from saved excel file for price after x years and selling price\n",
    "#Sheetname for reading the sheet precisely\n",
    "df= pd.read_excel('https://raw.githubusercontent.com/Kash48/Car-Depreciating-model-Pricing-Analytics-Linear-/master/Price.xlsx ')\n",
    "print(df.shape)\n",
    "df.head()"
   ]
  },
  {
   "cell_type": "code",
   "execution_count": 17,
   "metadata": {},
   "outputs": [
    {
     "name": "stdout",
     "output_type": "stream",
     "text": [
      "mean_x 6.5\n",
      "mean_y 0.3475\n"
     ]
    }
   ],
   "source": [
    "#collecting x and y data from the data frame to an one dimension numpy array for calculation ease\n",
    "X=df['Year'].values; \n",
    "Y=df['Sell_Percentage'].values\n",
    "\n",
    "#Calculating the mean of x and y\n",
    "mean_x=np.mean(X); mean_y=np.mean(Y)\n",
    "\n",
    "print( \"mean_x\",mean_x)\n",
    "print( \"mean_y\",mean_y)"
   ]
  },
  {
   "cell_type": "code",
   "execution_count": 12,
   "metadata": {},
   "outputs": [
    {
     "name": "stdout",
     "output_type": "stream",
     "text": [
      "0.775 -0.06576923076923077\n"
     ]
    }
   ],
   "source": [
    "#Total number of values captured in  a array, basically the number of rows, this would help in loop iterations\n",
    "n=len(X) \n",
    "\n",
    "#calculating the linear regression coefficients, the slope(b) and the y Intercept(a)\n",
    "numer=0\n",
    "denom=0\n",
    "for i in range(n):\n",
    "    numer+=(X[i]-mean_x)*(Y[i]-mean_y) # Covariance of X and Y, this is the numerator\n",
    "    denom+=(X[i]-mean_x)**2 # Variance of X, this is the denominator\n",
    "b=numer/denom #equation of calculating slope\n",
    "a=mean_y-(b*mean_x) #equation of y intercept\n",
    "    \n",
    "#print the coefficients of the best fit line, the model say at 0 year price=77.5%\n",
    "#the rateof change per year is almost -6.5%\n",
    "print(a,b)"
   ]
  },
  {
   "cell_type": "code",
   "execution_count": 14,
   "metadata": {},
   "outputs": [
    {
     "name": "stderr",
     "output_type": "stream",
     "text": [
      "C:\\ProgramData\\Anaconda3\\lib\\site-packages\\scipy\\stats\\stats.py:1713: FutureWarning: Using a non-tuple sequence for multidimensional indexing is deprecated; use `arr[tuple(seq)]` instead of `arr[seq]`. In the future this will be interpreted as an array index, `arr[np.array(seq)]`, which will result either in an error or a different result.\n",
      "  return np.add.reduce(sorted[indexer] * weights, axis=axis) / sumval\n"
     ]
    },
    {
     "name": "stdout",
     "output_type": "stream",
     "text": [
      "Y_pred -0.014230769230769269\n",
      "sst 0.633225\n",
      "sse 0.014665384615384618\n",
      "R-square 0.9768401680044461\n"
     ]
    },
    {
     "data": {
      "image/png": "[encoded data removed]",
      "text/plain": [
       "<Figure size 432x288 with 1 Axes>"
      ]
     },
     "metadata": {
      "needs_background": "light"
     },
     "output_type": "display_data"
    }
   ],
   "source": [
    "#plotting regression line and the actual observed point using the seaborn module\n",
    "sb.regplot(x=df[\"Year\"], y=df[\"Sell_Percentage\"])\n",
    "\n",
    "#Calculate the r square, for the goodness of fit, that helps in undersating how much the model explains the data points\n",
    "#The R square comes out to be .9768, this means 97.68% of the variation is explained by the model :)\n",
    "sse=0 # Sum of squared errors\n",
    "sst=0 # Sumof squared Total\n",
    "for i in range(n):\n",
    "    y_pred=a+b*X[i]\n",
    "    sst+=(Y[i]-mean_y)**2\n",
    "    sse+=(Y[i]-y_pred)**2\n",
    "    r2=1-(sse/sst)\n",
    "print(\"Y_pred\", y_pred)    \n",
    "print(\"sst\",sst)\n",
    "print(\"sse\",sse)\n",
    "print(\"R-square\",r2)"
   ]
  },
  {
   "cell_type": "markdown",
   "metadata": {},
   "source": [
    "### Regression code with SLR Assumptions"
   ]
  },
  {
   "cell_type": "code",
   "execution_count": 18,
   "metadata": {},
   "outputs": [],
   "source": [
    "#Importing various modules and reading excel file from the folder\n",
    "import pandas as pd\n",
    "import numpy as np\n",
    "from scipy import stats\n",
    "import seaborn as sb\n",
    "import matplotlib.pyplot as plt"
   ]
  },
  {
   "cell_type": "code",
   "execution_count": 20,
   "metadata": {},
   "outputs": [
    {
     "name": "stdout",
     "output_type": "stream",
     "text": [
      "(12, 2)\n"
     ]
    },
    {
     "data": {
      "text/html": [
       "<div>\n",
       "<style scoped>\n",
       "    .dataframe tbody tr th:only-of-type {\n",
       "        vertical-align: middle;\n",
       "    }\n",
       "\n",
       "    .dataframe tbody tr th {\n",
       "        vertical-align: top;\n",
       "    }\n",
       "\n",
       "    .dataframe thead th {\n",
       "        text-align: right;\n",
       "    }\n",
       "</style>\n",
       "<table border=\"1\" class=\"dataframe\">\n",
       "  <thead>\n",
       "    <tr style=\"text-align: right;\">\n",
       "      <th></th>\n",
       "      <th>Year</th>\n",
       "      <th>Sell_Percentage</th>\n",
       "    </tr>\n",
       "  </thead>\n",
       "  <tbody>\n",
       "    <tr>\n",
       "      <th>0</th>\n",
       "      <td>1</td>\n",
       "      <td>0.78</td>\n",
       "    </tr>\n",
       "    <tr>\n",
       "      <th>1</th>\n",
       "      <td>2</td>\n",
       "      <td>0.65</td>\n",
       "    </tr>\n",
       "    <tr>\n",
       "      <th>2</th>\n",
       "      <td>3</td>\n",
       "      <td>0.58</td>\n",
       "    </tr>\n",
       "    <tr>\n",
       "      <th>3</th>\n",
       "      <td>4</td>\n",
       "      <td>0.49</td>\n",
       "    </tr>\n",
       "    <tr>\n",
       "      <th>4</th>\n",
       "      <td>5</td>\n",
       "      <td>0.40</td>\n",
       "    </tr>\n",
       "  </tbody>\n",
       "</table>\n",
       "</div>"
      ],
      "text/plain": [
       "   Year  Sell_Percentage\n",
       "0     1             0.78\n",
       "1     2             0.65\n",
       "2     3             0.58\n",
       "3     4             0.49\n",
       "4     5             0.40"
      ]
     },
     "execution_count": 20,
     "metadata": {},
     "output_type": "execute_result"
    }
   ],
   "source": [
    "#importing the data from saved excel file for price after x years and selling price\n",
    "#Sheetname for reading the sheet precisely\n",
    "df= pd.read_excel('https://raw.githubusercontent.com/Kash48/Car-Depreciating-model-Pricing-Analytics-Linear-/master/Price.xlsx ')\n",
    "print(df.shape)\n",
    "df.head()"
   ]
  },
  {
   "cell_type": "code",
   "execution_count": 25,
   "metadata": {},
   "outputs": [
    {
     "name": "stdout",
     "output_type": "stream",
     "text": [
      "No missing values\n",
      "No missing values\n"
     ]
    }
   ],
   "source": [
    "#iloc for reading salary(dependent) and yearexperience(independent) into arrays\n",
    "# Reading data into X and Y variables, if you notice X with iloc, you do not have to reshape the array lol :)\n",
    "X=df.iloc[:,:-1].values\n",
    "Y=df.iloc[:,1].values\n",
    "\n",
    "'''\n",
    "**********************************\n",
    "Assumption 1 of Simple Linear Regression\n",
    "1. The 2 variables X and Y need to be continous numeric, NOT categorical.\n",
    "**********************************\n",
    "'''\n",
    "# By Inspecting the 2 variables X and Y, both are continous and Numeric\n",
    "# Assumption 1 PASS\n",
    "\n",
    "'''\n",
    "**********************************\n",
    "Assumption 2 of Simple Linear Regression\n",
    "2. Data is free of Missing values, if missing values are there MVT need to be performed.\n",
    "\n",
    "**********************************\n",
    "'''\n",
    "def mmissing_counter(Y):\n",
    "    if np.count_nonzero(~np.isnan(Y))==len(Y):\n",
    "        return print(\"No missing values\")\n",
    "    else:\n",
    "        return print(\"Missing value count is\",len(Y)-np.count_nonzero(~np.isnan(Y)), \"out of\" ,len(Y))\n",
    "\n",
    "\n",
    "mmissing_counter(X)\n",
    "mmissing_counter(Y)\n",
    "\n",
    "# Assumption 2 PASS"
   ]
  },
  {
   "cell_type": "code",
   "execution_count": 27,
   "metadata": {},
   "outputs": [
    {
     "name": "stdout",
     "output_type": "stream",
     "text": [
      "z-score 1.8827719024663627\n"
     ]
    }
   ],
   "source": [
    "'''\n",
    "**********************************\n",
    "Assumption 3 of Simple Linear Regression\n",
    "3. Data is free of outliers, \n",
    "If the  outliers are there take a business decision for removal @95% z=1.96 or @99.97% z=2.97\n",
    "\n",
    "**********************************\n",
    "'''\n",
    "z = max(np.abs(stats.zscore(Y)))\n",
    "print(\"z-score\",z)\n",
    "\n",
    "# Assumption 3 PASS"
   ]
  },
  {
   "cell_type": "code",
   "execution_count": 29,
   "metadata": {},
   "outputs": [
    {
     "data": {
      "text/plain": [
       "<seaborn.axisgrid.PairGrid at 0x181ab067b00>"
      ]
     },
     "execution_count": 29,
     "metadata": {},
     "output_type": "execute_result"
    },
    {
     "data": {
      "image/png": "[encoded data removed]",
      "text/plain": [
       "<Figure size 360x360 with 6 Axes>"
      ]
     },
     "metadata": {
      "needs_background": "light"
     },
     "output_type": "display_data"
    }
   ],
   "source": [
    "'''\n",
    "**********************************\n",
    "Assumption 4 of Simple Linear Regression\n",
    "4. Linear relationship between X and Y\n",
    "**********************************\n",
    "'''\n",
    "x=df['Year'].values\n",
    "y=df['Sell_Percentage'].values\n",
    "np.corrcoef(x,y)\n",
    "df.cov()\n",
    "sb.pairplot(df)\n",
    "\n",
    "# Assumption 4 PASS as the relationship seems to be strongly inverse linear and corr and cov are negative"
   ]
  },
  {
   "cell_type": "code",
   "execution_count": 32,
   "metadata": {},
   "outputs": [
    {
     "data": {
      "text/plain": [
       "array([ 0.30123631, -0.06034429,  0.44586854,  0.01197183])"
      ]
     },
     "execution_count": 32,
     "metadata": {},
     "output_type": "execute_result"
    }
   ],
   "source": [
    "'''\n",
    "**********************************\n",
    "Assumption/suggestion 5 of Simple Linear Regression\n",
    "5. Depending on the case/business need, data should be split into TRAIN and TEST\n",
    "**********************************\n",
    "'''\n",
    "# Assumption 5 PASS and we are splitting data, as per the problem\n",
    "\n",
    "'''\n",
    "***************************************************************************************\n",
    "***************************************************************************************\n",
    "***************************************************************************************\n",
    "Carrying on with Simple Linear REgression\n",
    "***************************************************************************************\n",
    "***************************************************************************************\n",
    "***************************************************************************************\n",
    "'''\n",
    "\n",
    "#splitting data into training and test sets\n",
    "#Note that it would need 4 parameters in the same test and train sequence\n",
    "#train_test_split is a function in the cross_validation module, read help for more details :)\n",
    "#X and Y are the arrays that we created above using iloc, always check the dimension\n",
    "#test_size=1/3 so train_size=2/3, you can give either, usually 80:20 is the norm\n",
    "#random_state=0 is the seed value for replicating the results, we hardcode it for replicating the results\n",
    "#The train and test would now have random values of removing any data bias and let go of data inbuilt patterns\n",
    "#The name could be any for the name of the sets a,b,c,d would work, just the sequance maters\n",
    "from sklearn.model_selection import train_test_split\n",
    "X_train,X_test,Y_train,Y_test=train_test_split(X,Y,test_size=1/3,random_state=0)\n",
    "\n",
    "#we import the LinearRegression class\n",
    "#reg is simply a linear regressor object and LinearRegression is a class, reg is an instance of class \n",
    "#fit is a method available in LinearRegression class, this now creates a best line fit based on X and Y\n",
    "#At this point the machine learning model is ready and the best fit line is in place\n",
    "#this reg object cannow be called with predict method for predicting value of an array or single value\n",
    "#You cannot call the predict method if the object reg is not trained using the fit method\n",
    "#Y_predict are the predicted salaries and Y_test are actuals, you can compare them to see the model's performance\n",
    "#creating y_predict to match with Y_test, y_predict is created with X_test \n",
    "#In summary we are trying to predict y with test x and match against test y for the accuracy of the model\n",
    "from sklearn.linear_model import LinearRegression\n",
    "reg=LinearRegression()\n",
    "reg.fit(X_train,Y_train)\n",
    "Y_predict=reg.predict(X_test)\n",
    "Y_predict"
   ]
  },
  {
   "cell_type": "code",
   "execution_count": 34,
   "metadata": {},
   "outputs": [
    {
     "name": "stdout",
     "output_type": "stream",
     "text": [
      "The current price after depreciation is [4097.10485133]\n"
     ]
    },
    {
     "name": "stderr",
     "output_type": "stream",
     "text": [
      "C:\\ProgramData\\Anaconda3\\lib\\site-packages\\scipy\\stats\\stats.py:1713: FutureWarning: Using a non-tuple sequence for multidimensional indexing is deprecated; use `arr[tuple(seq)]` instead of `arr[seq]`. In the future this will be interpreted as an array index, `arr[np.array(seq)]`, which will result either in an error or a different result.\n",
      "  return np.add.reduce(sorted[indexer] * weights, axis=axis) / sumval\n"
     ]
    },
    {
     "data": {
      "text/plain": [
       "<matplotlib.axes._subplots.AxesSubplot at 0x181ab54a780>"
      ]
     },
     "execution_count": 34,
     "metadata": {},
     "output_type": "execute_result"
    },
    {
     "data": {
      "image/png": "[encoded data removed]",
      "text/plain": [
       "<Figure size 432x288 with 1 Axes>"
      ]
     },
     "metadata": {
      "needs_background": "light"
     },
     "output_type": "display_data"
    }
   ],
   "source": [
    "#We are now trying to forecast, lets say what would be price after 5.5 years\n",
    "#predict is a method in LinearRegression class that helps in prediction based on trained model\n",
    "#Let's say I have a car of $10,000, after 5.5 year it would be sold for $4097\n",
    "ar=np.array(5.5)\n",
    "print(f\"The current price after depreciation is {reg.predict(ar.reshape(1,1))*10000}\")\n",
    "\n",
    "#plotting regression line and the actual observed point using the seaborn module\n",
    "sb.regplot(x=df[\"Year\"], y=df[\"Sell_Percentage\"])"
   ]
  },
  {
   "cell_type": "code",
   "execution_count": 35,
   "metadata": {},
   "outputs": [
    {
     "name": "stdout",
     "output_type": "stream",
     "text": [
      "R-square 0.9896431000755291\n",
      "Final rmse value is :0.06642398309428525\n"
     ]
    }
   ],
   "source": [
    "#Calculating the R square and printing it for the goodness of fit, it come out to be 98.48%\n",
    "#The variation that can be explained by this model is 98.96%\n",
    "r2_score=reg.score(X_train,Y_train)\n",
    "print(\"R-square\",r2_score) \n",
    "\n",
    "\n",
    "#Let's calculate the RMSE from scartch, RMSE is also a measure of the goodness of fit of a model.\n",
    "#The RMSE is 6.6%\n",
    "rss=((Y_test-Y_predict)**2).sum() #residual sum of squares \n",
    "mse=np.mean((Y_test-Y_predict)**2) #mean square error\n",
    "print(f\"Final rmse value is :{np.sqrt(mse)}\")\n"
   ]
  }
 ],
 "metadata": {
  "kernelspec": {
   "display_name": "Python 3",
   "language": "python",
   "name": "python3"
  },
  "language_info": {
   "codemirror_mode": {
    "name": "ipython",
    "version": 3
   },
   "file_extension": ".py",
   "mimetype": "text/x-python",
   "name": "python",
   "nbconvert_exporter": "python",
   "pygments_lexer": "ipython3",
   "version": "3.7.0"
  }
 },
 "nbformat": 4,
 "nbformat_minor": 2
}
